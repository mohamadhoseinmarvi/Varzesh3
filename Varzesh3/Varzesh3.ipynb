{
 "cells": [
  {
   "cell_type": "markdown",
   "metadata": {},
   "source": [
    "# Get titles of the news from Varzesh3"
   ]
  },
  {
   "cell_type": "code",
   "execution_count": 21,
   "metadata": {},
   "outputs": [],
   "source": [
    "from bs4 import BeautifulSoup\n",
    "import requests\n",
    "import csv\n",
    "import re"
   ]
  },
  {
   "cell_type": "code",
   "execution_count": 22,
   "metadata": {},
   "outputs": [],
   "source": [
    "def clean_text(text):\n",
    "    \n",
    "    return re.sub(r'\\n\\s*\\n', '\\n\\n', text).strip()"
   ]
  },
  {
   "cell_type": "code",
   "execution_count": 23,
   "metadata": {},
   "outputs": [],
   "source": [
    "def get_data(url, re_encode=False):\n",
    "    \n",
    "    r = requests.get(url)\n",
    "    if re_encode:\n",
    "        r.encoding = r.apparent_encoding                                \n",
    "    if r.status_code != 200:\n",
    "        raise Exception(\"Http Error: {}\".format(r.status_code))\n",
    "    else:\n",
    "        return BeautifulSoup(r.text, 'lxml')"
   ]
  },
  {
   "cell_type": "code",
   "execution_count": 24,
   "metadata": {},
   "outputs": [
    {
     "ename": "IndexError",
     "evalue": "list index out of range",
     "output_type": "error",
     "traceback": [
      "\u001b[1;31m---------------------------------------------------------------------------\u001b[0m",
      "\u001b[1;31mIndexError\u001b[0m                                Traceback (most recent call last)",
      "\u001b[1;32m~\\AppData\\Local\\Temp/ipykernel_5040/1162781646.py\u001b[0m in \u001b[0;36m<module>\u001b[1;34m\u001b[0m\n\u001b[0;32m      5\u001b[0m \u001b[1;31m# list of the links of all recent soccer realted news\u001b[0m\u001b[1;33m\u001b[0m\u001b[1;33m\u001b[0m\u001b[0m\n\u001b[0;32m      6\u001b[0m \u001b[0murls\u001b[0m \u001b[1;33m=\u001b[0m \u001b[1;33m[\u001b[0m\u001b[1;33m]\u001b[0m\u001b[1;33m\u001b[0m\u001b[1;33m\u001b[0m\u001b[0m\n\u001b[1;32m----> 7\u001b[1;33m \u001b[1;32mfor\u001b[0m \u001b[0mitem\u001b[0m \u001b[1;32min\u001b[0m \u001b[0mtabs\u001b[0m\u001b[1;33m[\u001b[0m\u001b[1;36m1\u001b[0m\u001b[1;33m]\u001b[0m\u001b[1;33m.\u001b[0m\u001b[0mfindAll\u001b[0m\u001b[1;33m(\u001b[0m\u001b[1;34m'a'\u001b[0m\u001b[1;33m)\u001b[0m \u001b[1;33m:\u001b[0m\u001b[1;33m\u001b[0m\u001b[1;33m\u001b[0m\u001b[0m\n\u001b[0m\u001b[0;32m      8\u001b[0m     \u001b[0murls\u001b[0m\u001b[1;33m.\u001b[0m\u001b[0mappend\u001b[0m\u001b[1;33m(\u001b[0m\u001b[1;34mf\"http://varzesh3.com/{'/'.join(item['href'].split('/')[1:3])}\"\u001b[0m\u001b[1;33m)\u001b[0m\u001b[1;33m\u001b[0m\u001b[1;33m\u001b[0m\u001b[0m\n",
      "\u001b[1;31mIndexError\u001b[0m: list index out of range"
     ]
    }
   ],
   "source": [
    "soup = get_data(\"http://www.varzesh3.com\")\n",
    "\n",
    "tabs = soup.findAll('div' , class_ ='tab-pane' , id = 'mostRecentNews')\n",
    "\n",
    "# list of the links of all recent soccer realted news\n",
    "urls = []\n",
    "for item in tabs[1].findAll('a') :\n",
    "    urls.append(f\"http://varzesh3.com/{'/'.join(item['href'].split('/')[1:3])}\")"
   ]
  },
  {
   "cell_type": "code",
   "execution_count": 19,
   "metadata": {},
   "outputs": [],
   "source": [
    "with open('varzesh3.csv' , 'w') as csv_file:\n",
    "    csv_writer = csv.writer(csv_file)\n",
    "    csv_writer.writerow(['title' , 'lead' , 'content'])"
   ]
  },
  {
   "cell_type": "code",
   "execution_count": 20,
   "metadata": {
    "scrolled": true
   },
   "outputs": [],
   "source": [
    "n = 0\n",
    "for url in urls:     #only try the first two lines for now\n",
    "    soup = get_data(url, re_encode=True)\n",
    "\n",
    "    \n",
    "    try:\n",
    "        title = clean_text(soup.find('h1' , class_ = 'news-page--news-title').text)\n",
    "        lead = clean_text(soup.find('p' , class_ = 'news-page--news-lead text-justify').text)\n",
    "        content = clean_text(soup.find('div' , class_ = 'col-xs-12 news-page--news-text text-justify').text)\n",
    "        with open('test.txt' ,encoding = \"utf_8\" ,  mode = 'a') as f:\n",
    "            f.write(title)\n",
    "            f.write(lead)\n",
    "            f.write(content)\n",
    "        with open('varzesh3.csv' , 'a') as csv_file:\n",
    "            csv_writer = csv.writer(csv_file)\n",
    "            csv_writer.writerow([title, lead, content])  \n",
    "        print(f'This is news number {n}. \\n')\n",
    "        print(f\"title:\\n {title}'\\nlead:\\n{lead}\\ncontent:\\n{content}\\n\")\n",
    "        n += 1\n",
    "    except:\n",
    "        print('no text!')\n",
    "    print(\"-\"*100)"
   ]
  },
  {
   "cell_type": "code",
   "execution_count": null,
   "metadata": {},
   "outputs": [],
   "source": []
  }
 ],
 "metadata": {
  "kernelspec": {
   "display_name": "Python 3 (ipykernel)",
   "language": "python",
   "name": "python3"
  },
  "language_info": {
   "codemirror_mode": {
    "name": "ipython",
    "version": 3
   },
   "file_extension": ".py",
   "mimetype": "text/x-python",
   "name": "python",
   "nbconvert_exporter": "python",
   "pygments_lexer": "ipython3",
   "version": "3.9.7"
  }
 },
 "nbformat": 4,
 "nbformat_minor": 2
}
